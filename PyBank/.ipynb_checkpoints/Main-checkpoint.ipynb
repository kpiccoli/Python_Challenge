{
 "cells": [
  {
   "cell_type": "code",
   "execution_count": 1,
   "metadata": {},
   "outputs": [],
   "source": [
    "# import libraries\n",
    "import os\n",
    "import csv"
   ]
  },
  {
   "cell_type": "code",
   "execution_count": 2,
   "metadata": {},
   "outputs": [],
   "source": [
    "# input and output file\n",
    "input_file = 'budget_data.csv'\n",
    "output_file = 'budget_data_summary.txt'"
   ]
  },
  {
   "cell_type": "code",
   "execution_count": 3,
   "metadata": {},
   "outputs": [],
   "source": [
    "# input and output paths\n",
    "csvfile = os.path.join('Resources','budget_data.csv')\n",
    "txtfile = os.path.join('budget_data_summary.txt')"
   ]
  },
  {
   "cell_type": "code",
   "execution_count": 4,
   "metadata": {},
   "outputs": [],
   "source": [
    "total_months = 0\n",
    "profit_losses = 0\n",
    "change_list = []\n",
    "month_of_change = []\n",
    "greatest_increase = [\"\",0]\n",
    "greatest_decrease = [\"\",0]"
   ]
  },
  {
   "cell_type": "code",
   "execution_count": null,
   "metadata": {},
   "outputs": [],
   "source": [
    "# Open file to read\n",
    "csvfile = os.path.join('Resources','budget_data.csv')\n",
    "txtfile = os.path.join('budget_data_summary.txt')\n",
    "\n",
    "with open (csvfile) as csvfile:\n",
    "    csvreader = csv.reader(csvfile, delimiter=\",\")\n",
    "    \n",
    "    csvheader=next(csvreader)\n",
    "    \n",
    "    print(f\"Header: {csvheader}\")\n",
    "    \n",
    "    # Jan-2010 , 864000\n",
    "    first_row = next(csvreader)\n",
    "    print(f'First Row: {first_row}')\n",
    "    total_months = total_months + 1\n",
    "    profit_losses = profit_losses + int(first_row[1])\n",
    "    first_value = int(first_row[1])\n",
    "    \n",
    "    for row in csvreader:\n",
    "        print(row)\n",
    "        total_months = total_months + 1 \n",
    "        profit_losses = profit_losses + int(row[1])\n",
    "        \n",
    "        net_change = int(row[1]) - first_value\n",
    "        change_list = change_list + [net_change]\n",
    "        #change_list.append(net_change)\n",
    "        \n",
    "        if net_change > greatest_increase[1]:\n",
    "            greatest_increase[1] = net_change\n",
    "            greatest_increase[0] = row[0]   \n",
    "        \n",
    "        if net_change < greatest_decrease[1]:\n",
    "            greatest_decrease[1] = net_change\n",
    "            greatest_decrease[0] = row[0]\n",
    "      "
   ]
  },
  {
   "cell_type": "code",
   "execution_count": 8,
   "metadata": {
    "scrolled": true
   },
   "outputs": [
    {
     "name": "stdout",
     "output_type": "stream",
     "text": [
      "Total Months: 86\n",
      "Profit/Losses: $38382578\n"
     ]
    }
   ],
   "source": [
    "print(f'Total Months: {total_months}')\n",
    "print(f'Profit/Losses: ${profit_losses}')"
   ]
  },
  {
   "cell_type": "code",
   "execution_count": 9,
   "metadata": {},
   "outputs": [
    {
     "name": "stdout",
     "output_type": "stream",
     "text": [
      "Average Change: 446309.05\n"
     ]
    }
   ],
   "source": [
    "average_change = round(profit_losses / total_months, 2)\n",
    "print(f'Average Change: {average_change}')"
   ]
  },
  {
   "cell_type": "code",
   "execution_count": 10,
   "metadata": {},
   "outputs": [
    {
     "name": "stdout",
     "output_type": "stream",
     "text": [
      "Greatest Increase: ['Feb-2012', 302709] \n",
      "Greatest Decrease: ['Sep-2013', -2064109] \n"
     ]
    }
   ],
   "source": [
    "print(f'Greatest Increase: {greatest_increase} ')\n",
    "print(f'Greatest Decrease: {greatest_decrease} ')"
   ]
  },
  {
   "cell_type": "code",
   "execution_count": 15,
   "metadata": {},
   "outputs": [],
   "source": [
    "with open(txtfile,'w', newline='') as summary_txt:\n",
    "    writer = csv.writer(summary_txt)\n",
    "       \n",
    "    writer.writerows([[\"Financial Analysis for:\" + input_file],\n",
    "        [\"-\" *50],\n",
    "        [\"Total Months:\" + str(total_months)],\n",
    "        [\"Total Profit/Losses:\"  + str(profit_losses)],\n",
    "        [\"Average Change in Profit/Losses:\" + str(average_change)],\n",
    "        [\"Greatest Increase in Profits:\" + str(greatest_increase)],\n",
    "        [\"Greatest Decrease in Profits:\" + str(greatest_decrease)]])"
   ]
  },
  {
   "cell_type": "code",
   "execution_count": null,
   "metadata": {},
   "outputs": [],
   "source": []
  },
  {
   "cell_type": "code",
   "execution_count": null,
   "metadata": {},
   "outputs": [],
   "source": []
  },
  {
   "cell_type": "code",
   "execution_count": null,
   "metadata": {},
   "outputs": [],
   "source": []
  },
  {
   "cell_type": "code",
   "execution_count": null,
   "metadata": {},
   "outputs": [],
   "source": []
  },
  {
   "cell_type": "code",
   "execution_count": null,
   "metadata": {},
   "outputs": [],
   "source": []
  },
  {
   "cell_type": "code",
   "execution_count": null,
   "metadata": {},
   "outputs": [],
   "source": []
  },
  {
   "cell_type": "code",
   "execution_count": null,
   "metadata": {},
   "outputs": [],
   "source": []
  },
  {
   "cell_type": "code",
   "execution_count": null,
   "metadata": {},
   "outputs": [],
   "source": []
  },
  {
   "cell_type": "code",
   "execution_count": null,
   "metadata": {},
   "outputs": [],
   "source": []
  },
  {
   "cell_type": "code",
   "execution_count": null,
   "metadata": {},
   "outputs": [],
   "source": []
  },
  {
   "cell_type": "code",
   "execution_count": null,
   "metadata": {},
   "outputs": [],
   "source": []
  },
  {
   "cell_type": "code",
   "execution_count": null,
   "metadata": {},
   "outputs": [],
   "source": []
  },
  {
   "cell_type": "code",
   "execution_count": null,
   "metadata": {},
   "outputs": [],
   "source": []
  },
  {
   "cell_type": "code",
   "execution_count": null,
   "metadata": {},
   "outputs": [],
   "source": []
  },
  {
   "cell_type": "code",
   "execution_count": null,
   "metadata": {},
   "outputs": [],
   "source": []
  },
  {
   "cell_type": "code",
   "execution_count": null,
   "metadata": {
    "scrolled": true
   },
   "outputs": [],
   "source": [
    "   "
   ]
  },
  {
   "cell_type": "code",
   "execution_count": null,
   "metadata": {},
   "outputs": [],
   "source": []
  },
  {
   "cell_type": "code",
   "execution_count": null,
   "metadata": {},
   "outputs": [],
   "source": []
  },
  {
   "cell_type": "code",
   "execution_count": null,
   "metadata": {},
   "outputs": [],
   "source": []
  },
  {
   "cell_type": "code",
   "execution_count": null,
   "metadata": {},
   "outputs": [],
   "source": []
  },
  {
   "cell_type": "code",
   "execution_count": null,
   "metadata": {},
   "outputs": [],
   "source": []
  },
  {
   "cell_type": "code",
   "execution_count": null,
   "metadata": {},
   "outputs": [],
   "source": []
  },
  {
   "cell_type": "code",
   "execution_count": null,
   "metadata": {},
   "outputs": [],
   "source": []
  }
 ],
 "metadata": {
  "kernelspec": {
   "display_name": "Python 3",
   "language": "python",
   "name": "python3"
  },
  "language_info": {
   "codemirror_mode": {
    "name": "ipython",
    "version": 3
   },
   "file_extension": ".py",
   "mimetype": "text/x-python",
   "name": "python",
   "nbconvert_exporter": "python",
   "pygments_lexer": "ipython3",
   "version": "3.7.6"
  }
 },
 "nbformat": 4,
 "nbformat_minor": 4
}
