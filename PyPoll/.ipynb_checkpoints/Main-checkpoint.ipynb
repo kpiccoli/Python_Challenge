{
 "cells": [
  {
   "cell_type": "code",
   "execution_count": 191,
   "metadata": {},
   "outputs": [],
   "source": [
    "# Import Libraries\n",
    "import os\n",
    "import csv"
   ]
  },
  {
   "cell_type": "code",
   "execution_count": 192,
   "metadata": {},
   "outputs": [],
   "source": [
    "# Input and Output files\n",
    "input_file = 'election_data.csv'\n",
    "output_file = 'election_data_summary.txt'"
   ]
  },
  {
   "cell_type": "code",
   "execution_count": 193,
   "metadata": {},
   "outputs": [],
   "source": [
    "# Input and Output paths\n",
    "csvfile = os.path.join('Resources', 'election_data.csv')\n",
    "txtfile = os.path.join('election_data_summary.txt')"
   ]
  },
  {
   "cell_type": "code",
   "execution_count": 194,
   "metadata": {},
   "outputs": [],
   "source": [
    "total_votes = 0\n",
    "names = []\n",
    "candidates = {}\n",
    "percent_votes = 0\n",
    "most_votes = 0\n",
    "most_voted = \"\""
   ]
  },
  {
   "cell_type": "code",
   "execution_count": 195,
   "metadata": {},
   "outputs": [
    {
     "name": "stdout",
     "output_type": "stream",
     "text": [
      "['Voter ID', 'County', 'Candidate']\n"
     ]
    }
   ],
   "source": [
    "file = open(csvfile)\n",
    "\n",
    "csvreader = csv.reader(file)\n",
    "\n",
    "header = next(csvreader)\n",
    "print(header)"
   ]
  },
  {
   "cell_type": "code",
   "execution_count": 196,
   "metadata": {},
   "outputs": [],
   "source": [
    "for row in csvreader:\n",
    "    #print(row)\n",
    "    total_votes = total_votes + 1\n",
    "    if row[2] not in names:\n",
    "        names.append(row[2])\n",
    "        candidates[row[2]] = 0\n",
    "    candidates[row[2]] = candidates[row[2]] + 1\n",
    "    \n",
    "    percent_votes = candidates[row[2]]/ total_votes\n",
    "    \n",
    "    if candidates[row[2]] > most_votes:\n",
    "        most_votes = candidates[row[2]]\n",
    "        most_voted = row[2]"
   ]
  },
  {
   "cell_type": "code",
   "execution_count": 197,
   "metadata": {},
   "outputs": [
    {
     "name": "stdout",
     "output_type": "stream",
     "text": [
      "Total Number Votes Cast: 3521001\n"
     ]
    }
   ],
   "source": [
    "print(f'Total Number Votes Cast: {total_votes}')"
   ]
  },
  {
   "cell_type": "code",
   "execution_count": 198,
   "metadata": {},
   "outputs": [
    {
     "name": "stdout",
     "output_type": "stream",
     "text": [
      "Total Number Votes per Candidate: ['Khan', 'Correy', 'Li', \"O'Tooley\"]\n"
     ]
    }
   ],
   "source": [
    "print(f'Total Number Votes per Candidate: {names}')"
   ]
  },
  {
   "cell_type": "code",
   "execution_count": 199,
   "metadata": {},
   "outputs": [
    {
     "name": "stdout",
     "output_type": "stream",
     "text": [
      "Candidate Who Receive Votes: {'Khan': 2218231, 'Correy': 704200, 'Li': 492940, \"O'Tooley\": 105630}\n"
     ]
    }
   ],
   "source": [
    "print(f'Candidate Who Receive Votes: {candidates}')\n"
   ]
  },
  {
   "cell_type": "code",
   "execution_count": 200,
   "metadata": {},
   "outputs": [],
   "source": [
    "khan_percentage = round(candidates [\"Khan\"] / total_votes *100,2)"
   ]
  },
  {
   "cell_type": "code",
   "execution_count": 201,
   "metadata": {},
   "outputs": [],
   "source": [
    "correy_percentage = round(candidates [\"Correy\"] / total_votes *100,2)"
   ]
  },
  {
   "cell_type": "code",
   "execution_count": 202,
   "metadata": {},
   "outputs": [],
   "source": [
    "li_percentage = round(candidates [\"Li\"] / total_votes *100,2)"
   ]
  },
  {
   "cell_type": "code",
   "execution_count": 203,
   "metadata": {},
   "outputs": [],
   "source": [
    "otooley_percentage = round(candidates [\"O'Tooley\"] / total_votes *100,2)"
   ]
  },
  {
   "cell_type": "code",
   "execution_count": 204,
   "metadata": {},
   "outputs": [
    {
     "name": "stdout",
     "output_type": "stream",
     "text": [
      "Winner of Election: Khan\n"
     ]
    }
   ],
   "source": [
    "print(f'Winner of Election: {most_voted}')"
   ]
  },
  {
   "cell_type": "code",
   "execution_count": 209,
   "metadata": {},
   "outputs": [],
   "source": [
    "with open(txtfile,'w', newline='') as summary_txt:\n",
    "    writer = csv.writer(summary_txt)\n",
    "    \n",
    "    writer.writerows([[\"Election Results for:\" + input_file],\n",
    "        [\"-\" *50],\n",
    "        [\"Total Votes:\" + str(total_votes)],\n",
    "        [\"-\" *50],             \n",
    "        [\"Khan:\" + str(khan_percentage), + (candidates[\"Khan\"])],\n",
    "        [\"Correy:\" + str(correy_percentage), + (candidates[\"Correy\"])],\n",
    "        [\"Li:\" + str(li_percentage), + (candidates[\"Li\"])],\n",
    "        [\"O'Tooley:\" + str(otooley_percentage), + (candidates[\"O'Tooley\"])],\n",
    "        [\"Winner:\" + str(most_voted)]])"
   ]
  },
  {
   "cell_type": "code",
   "execution_count": null,
   "metadata": {},
   "outputs": [],
   "source": []
  },
  {
   "cell_type": "code",
   "execution_count": null,
   "metadata": {},
   "outputs": [],
   "source": []
  },
  {
   "cell_type": "code",
   "execution_count": null,
   "metadata": {},
   "outputs": [],
   "source": []
  },
  {
   "cell_type": "code",
   "execution_count": null,
   "metadata": {},
   "outputs": [],
   "source": []
  },
  {
   "cell_type": "code",
   "execution_count": null,
   "metadata": {},
   "outputs": [],
   "source": []
  },
  {
   "cell_type": "code",
   "execution_count": null,
   "metadata": {},
   "outputs": [],
   "source": []
  }
 ],
 "metadata": {
  "kernelspec": {
   "display_name": "Python 3",
   "language": "python",
   "name": "python3"
  },
  "language_info": {
   "codemirror_mode": {
    "name": "ipython",
    "version": 3
   },
   "file_extension": ".py",
   "mimetype": "text/x-python",
   "name": "python",
   "nbconvert_exporter": "python",
   "pygments_lexer": "ipython3",
   "version": "3.7.6"
  }
 },
 "nbformat": 4,
 "nbformat_minor": 4
}
